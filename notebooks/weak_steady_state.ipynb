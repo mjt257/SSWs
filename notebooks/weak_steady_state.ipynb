{
 "cells": [
  {
   "cell_type": "code",
   "execution_count": 2,
   "metadata": {},
   "outputs": [],
   "source": [
    "import sys\n",
    "sys.path.append(r'..\\scripts')\n",
    "\n",
    "import numpy as np\n",
    "import matplotlib.pyplot as plt"
   ]
  },
  {
   "cell_type": "markdown",
   "metadata": {},
   "source": [
    "## Loading Data"
   ]
  },
  {
   "cell_type": "markdown",
   "metadata": {},
   "source": [
    "### Kernel"
   ]
  },
  {
   "cell_type": "code",
   "execution_count": 3,
   "metadata": {},
   "outputs": [],
   "source": [
    "#Define simulation parameters\n",
    "N = 40 # Number of spatial points\n",
    "zb, zt = 1, 5 #bounds\n",
    "k = 2 #wave number|\n",
    "alpha = 4.8\n",
    "dz = (zt - zb)/N\n",
    "\n",
    "#Radius function\n",
    "R = lambda z : 3 - alpha*((z - 0.5 * (zb + zt))/(zt-zb))**2\n",
    "R = np.vectorize(R)\n",
    "\n",
    "discretization = np.load(f'../data_cache/discretizationN={N}_k={k}_R=EandM.npz')\n",
    "zg, oc, Li = discretization['zg'], discretization['oc'], discretization['L']"
   ]
  },
  {
   "cell_type": "markdown",
   "metadata": {},
   "source": [
    "### Continuation"
   ]
  },
  {
   "cell_type": "code",
   "execution_count": 4,
   "metadata": {},
   "outputs": [],
   "source": [
    "S_hat = 600\n",
    "delta_hat = 0.019 \n",
    "kappa = 6"
   ]
  },
  {
   "cell_type": "code",
   "execution_count": 5,
   "metadata": {},
   "outputs": [],
   "source": [
    "cont_result = np.load(f'../data_cache/branchesS_hat={S_hat}delta_hat={delta_hat}kappa_1={kappa}kappa_2={kappa + 50}.npz', allow_pickle=True)['test_continuation']"
   ]
  },
  {
   "cell_type": "code",
   "execution_count": 6,
   "metadata": {},
   "outputs": [],
   "source": [
    "steady_1 = sorted(list(cont_result[0].solutions), key=lambda x: x.alpha1)\n",
    "steady_2 = sorted(list(cont_result[2].solutions), key=lambda x: x.alpha1)\n",
    "unsteady = sorted(list(cont_result[1].solutions), key=lambda x: x.alpha1)"
   ]
  },
  {
   "cell_type": "markdown",
   "metadata": {},
   "source": [
    "## Plotting"
   ]
  },
  {
   "cell_type": "code",
   "execution_count": 7,
   "metadata": {},
   "outputs": [
    {
     "data": {
      "text/plain": [
       "[<matplotlib.lines.Line2D at 0x1eb23937e00>]"
      ]
     },
     "execution_count": 7,
     "metadata": {},
     "output_type": "execute_result"
    },
    {
     "data": {
      "image/png": "[encoded data removed]",
      "text/plain": [
       "<Figure size 640x480 with 1 Axes>"
      ]
     },
     "metadata": {},
     "output_type": "display_data"
    }
   ],
   "source": [
    "plt.plot(np.split(steady_1[0].y, 3)[0], zg)\n",
    "plt.plot(np.split(steady_2[0].y, 3)[0], zg)\n",
    "plt.plot(np.split(unsteady[0].y, 3)[0], zg)"
   ]
  },
  {
   "cell_type": "markdown",
   "metadata": {},
   "source": [
    "## Decomposition"
   ]
  },
  {
   "cell_type": "code",
   "execution_count": 8,
   "metadata": {},
   "outputs": [],
   "source": [
    "from steady_state_analysis import compute_eta_decomp, dDelta_dt_from_Delta, inner_product, compute_dDelta_dt_from_range_Delta, generate_contours, build_LDelta"
   ]
  },
  {
   "cell_type": "code",
   "execution_count": 9,
   "metadata": {},
   "outputs": [],
   "source": [
    "def compute_L_operator(solution, T_k, T1):\n",
    "    \"\"\"\n",
    "    Constructs the matrix representation of L^Delta based on:\n",
    "        L η = (T_k @ (Δ * η)) - (T1 @ Δ) * η\n",
    "    using discretized quadrature.\n",
    "    \n",
    "    Parameters:\n",
    "        delta : ndarray, shape (n,)\n",
    "            Discretized Δ(z)\n",
    "        T_k   : ndarray, shape (n, n)\n",
    "            Discretized kernel T^k(z, z')\n",
    "        T1    : ndarray, shape (n, n)\n",
    "            Discretized kernel T^1(z, z')\n",
    "        dz    : float\n",
    "            Grid spacing in z\n",
    "            \n",
    "    Returns:\n",
    "        L : ndarray, shape (n, n)\n",
    "            Matrix representation of L^Δ\n",
    "    \"\"\"\n",
    "    delta = np.split(solution.y, 3)[0]\n",
    "    delta = delta.flatten()\n",
    "    \n",
    "    # First term: integral against η — build matrix T_k * Δ * dz\n",
    "    A = T_k @ np.diag(delta)# shape (n,)\n",
    "\n",
    "    # Make it into a matrix multiplying η: outer product\n",
    "    A_matrix = A #np.outer(A, np.ones_like(delta))  # shape (n, n)\n",
    "\n",
    "    # Second term: scalar coefficient at each row\n",
    "    B = T1 @ (delta)  # shape (n,)\n",
    "    B_matrix = np.diag(B)  # shape (n, n)\n",
    "\n",
    "    # Final operator: L = A_matrix - B_matrix\n",
    "    L = A_matrix - B_matrix\n",
    "    return L\n",
    "\n",
    "def compute_spectra(solution, T_k, T1):\n",
    "    \"\"\"\n",
    "    Computes the eigenvalues and eigenvectors of L^Δ.\n",
    "    \n",
    "    Returns:\n",
    "        eigenvalues : ndarray\n",
    "        eigenvectors : ndarray (each column is a right eigenvector)\n",
    "    \"\"\"\n",
    "    L = compute_L_operator(solution, T_k*dz, T1*dz)\n",
    "    eigenvalues, eigenvectors = np.linalg.eig(L)\n",
    "    return eigenvalues, eigenvectors\n"
   ]
  },
  {
   "cell_type": "code",
   "execution_count": 10,
   "metadata": {},
   "outputs": [],
   "source": [
    "eigenvalues, eigenvectors = np.linalg.eig(build_LDelta(np.ones(N), Li * dz, oc * dz))\n",
    "def project_onto_unperturbed_spectra(solution, eigenvectors):\n",
    "    delta, eta_real, eta_imag = np.split(solution.y, 3)\n",
    "    coeffs = eigenvectors.T @ delta\n",
    "    return coeffs"
   ]
  },
  {
   "cell_type": "code",
   "execution_count": 11,
   "metadata": {},
   "outputs": [],
   "source": [
    "def compute_spectra_old(solution, Li, oc):\n",
    "    delta, eta_real, eta_imag = np.split(solution.y, 3)\n",
    "    eigenvalues, eigenvectors = np.linalg.eig(build_LDelta(delta, Li * dz, oc * dz))\n",
    "    return eigenvalues, eigenvectors\n"
   ]
  },
  {
   "cell_type": "code",
   "execution_count": 12,
   "metadata": {},
   "outputs": [
    {
     "data": {
      "image/png": "[encoded data removed]",
      "text/plain": [
       "<Figure size 800x200 with 1 Axes>"
      ]
     },
     "metadata": {},
     "output_type": "display_data"
    }
   ],
   "source": [
    "solution = steady_1[0]\n",
    "# y-values are all zero (on the x-axis)\n",
    "y_values = np.zeros_like(zg)\n",
    "\n",
    "# Plot\n",
    "plt.figure(figsize=(8, 2))\n",
    "eigenvalues = -compute_spectra(solution, Li, oc)[0]\n",
    "plt.scatter(eigenvalues, y_values, color='black')  # black dots on x-axis\n",
    "plt.axvline(x=(np.min(oc @ np.split(solution.y, 3)[0] * dz)-delta_hat), color='black', linestyle=':', linewidth=2) \n",
    "plt.axvline(x=(np.max(oc @ np.split(solution.y, 3)[0] * dz)- delta_hat), color='black', linestyle=':', linewidth=2)\n",
    "plt.yticks([])  # hide y-axis ticks\n",
    "\n",
    "# Optionally add grid and markers\n",
    "plt.grid(True, axis='x', linestyle='--', alpha=0.5)\n",
    "\n",
    "plt.show()"
   ]
  },
  {
   "cell_type": "code",
   "execution_count": 13,
   "metadata": {},
   "outputs": [
    {
     "data": {
      "image/png": "[encoded data removed]",
      "text/plain": [
       "<Figure size 1200x600 with 6 Axes>"
      ]
     },
     "metadata": {},
     "output_type": "display_data"
    }
   ],
   "source": [
    "import matplotlib.pyplot as plt\n",
    "import numpy as np\n",
    "import math\n",
    "\n",
    "# Assume: solutions is your list/array of Solution objects\n",
    "solutions = [steady_1[0], steady_1[-1], steady_2[0], steady_2[-1], unsteady[0], unsteady[-1] ] # or whatever list you're using\n",
    "\n",
    "# Parameters\n",
    "num_solutions = len(solutions)\n",
    "ncols = 2\n",
    "nrows = math.ceil(num_solutions / ncols)\n",
    "\n",
    "fig, axes = plt.subplots(nrows=nrows, ncols=ncols, figsize=(12, 2 * nrows), constrained_layout=True)\n",
    "\n",
    "# Flatten axes array for easy indexing\n",
    "axes = axes.flatten()\n",
    "\n",
    "for i, solution in enumerate(solutions):\n",
    "    ax = axes[i]\n",
    "\n",
    "    # Eigenvalues and y-values\n",
    "    eigenvalues = -compute_spectra(solution, Li, oc)[0]\n",
    "    y_values = np.zeros_like(eigenvalues)\n",
    "\n",
    "    # Plot dots on x-axis\n",
    "    ax.scatter(eigenvalues, y_values, color='black')\n",
    "\n",
    "    # Add vertical dotted lines from delta term\n",
    "    delta = np.split(solution.y, 3)[0]\n",
    "    oc_delta = oc @ delta * dz\n",
    "    ax.axvline(x=np.min(oc_delta), color='black', linestyle=':', linewidth=1.5)\n",
    "    ax.axvline(x=np.max(oc_delta), color='black', linestyle=':', linewidth=1.5)\n",
    "\n",
    "    # Hide y-axis ticks\n",
    "    ax.set_yticks([])\n",
    "    ax.grid(True, axis='x', linestyle='--', alpha=0.5)\n",
    "\n",
    "    # Optional title\n",
    "    ax.set_title(f\"Solution {i+1}\")\n",
    "\n",
    "# Hide unused subplots if number is odd\n",
    "for j in range(i + 1, len(axes)):\n",
    "    fig.delaxes(axes[j])\n",
    "\n",
    "plt.show()\n"
   ]
  },
  {
   "cell_type": "code",
   "execution_count": null,
   "metadata": {},
   "outputs": [],
   "source": [
    "import matplotlib.pyplot as plt\n",
    "import numpy as np\n",
    "\n",
    "# Set the threshold for eigenvalue magnitude\n",
    "midpoint = len(steady_1)//2\n",
    "solutions = [steady_1[0], steady_1[midpoint], steady_1[-1], steady_2[0], steady_2[midpoint], steady_2[-1], unsteady[0], unsteady[midpoint], unsteady[-1] ]  # List of solutions\n",
    "num_solutions = len(solutions)\n",
    "\n",
    "# Layout: 2 columns, enough rows to fit all solutions\n",
    "ncols = 3\n",
    "nrows = math.ceil(num_solutions / ncols)\n",
    "\n",
    "fig, axes = plt.subplots(nrows=nrows, ncols=ncols, figsize=(12, 4 * nrows), constrained_layout=True)\n",
    "axes = axes.flatten()  # Flatten for easy indexing\n",
    "\n",
    "for i, solution in enumerate(solutions):\n",
    "    ax = axes[i]\n",
    "\n",
    "    # --- Compute eigenvalues and eigenvectors ---\n",
    "    delta = np.split(solution.y, 3)[0]\n",
    "    oc_delta = oc @ delta * dz\n",
    "    lam_min = -np.max(oc_delta)\n",
    "    lam_max = -np.min(oc_delta)\n",
    "\n",
    "    eigenvalues, eigenvectors = compute_spectra(solution, Li, oc)\n",
    "\n",
    "    # --- Plot eigenvectors outside [lam_min, lam_max] ---\n",
    "    mask = (eigenvalues < lam_min) | (eigenvalues > lam_max)\n",
    "    plotted_any = False\n",
    "    sum = np.zeros(N)\n",
    "    for j in np.where(mask)[0]:\n",
    "        j = np.where(mask)[0][0]\n",
    "        evector = eigenvectors[:, j].real * -1\n",
    "        ax.plot(evector, zg, label=f\"λ={eigenvalues[j]:.2f}\")\n",
    "        plotted_any = True\n",
    "        sum+=evector # * eigenvalues[j] \n",
    "\n",
    "   # ax.plot(sum, zg, label=f\"sum\")\n",
    "\n",
    "    # Titles and aesthetics\n",
    "    ax.set_title(f\"Solution {i+1}\\nλ outside [{lam_min:.2f}, {lam_max:.2f}]\")\n",
    "    ax.set_xlabel(\"Eigenvector value\")\n",
    "    ax.set_ylabel(\"z\")\n",
    "    ax.grid(True)\n",
    "    if plotted_any:\n",
    "        ax.legend(fontsize=7)\n",
    "\n",
    "# Remove unused subplots (if any)\n",
    "for j in range(i + 1, len(axes)):\n",
    "    fig.delaxes(axes[j])\n",
    "\n",
    "plt.show()"
   ]
  },
  {
   "cell_type": "code",
   "execution_count": null,
   "metadata": {},
   "outputs": [],
   "source": [
    "import matplotlib.pyplot as plt\n",
    "import numpy as np\n",
    "\n",
    "plt.figure(figsize=(10, 6))\n",
    "solutions = [steady_1[0], steady_1[midpoint], steady_1[-1], steady_2[0], steady_2[midpoint], steady_2[-1], unsteady[0], unsteady[midpoint], unsteady[-1] ]  # List of solutions\n",
    "\n",
    "for i, solution in enumerate(solutions):  # Replace with your solution list\n",
    "    delta = np.split(solution.y, 3)[0]\n",
    "    oc_delta = oc @ delta * dz\n",
    "    lam_min = -np.max(oc_delta)\n",
    "    lam_max = -np.min(oc_delta)\n",
    "\n",
    "    eigenvalues, eigenvectors = compute_spectra(solution, Li, oc)\n",
    "    \n",
    "    # Select eigenvalues outside the continuous range\n",
    "    discrete_mask = (eigenvalues > lam_min) | (eigenvalues < lam_max)\n",
    "\n",
    "    if np.any(discrete_mask):\n",
    "        idx = np.argmax(eigenvalues.real * discrete_mask)  # index of most unstable discrete eigenvalue\n",
    "        eigval = eigenvalues[idx]\n",
    "        eigvec = eigenvectors[:, idx].real\n",
    "        \n",
    "        plt.plot(eigvec, zg, label=f\"Steady {i+1}, λ={eigval:.2f}, idx={idx}\")\n",
    "\n",
    "plt.title(\"Most Unstable Discrete Eigenmodes\")\n",
    "plt.xlabel(\"z\")\n",
    "plt.ylabel(\"Eigenvector value\")\n",
    "plt.grid(True)\n",
    "plt.legend()\n",
    "plt.tight_layout()\n",
    "plt.show()\n"
   ]
  },
  {
   "cell_type": "code",
   "execution_count": null,
   "metadata": {},
   "outputs": [],
   "source": [
    "plt.plot(compute_spectra(steady_2[-1], Li, oc)[1][:, -3], zg)"
   ]
  },
  {
   "cell_type": "code",
   "execution_count": null,
   "metadata": {},
   "outputs": [],
   "source": [
    "plt.plot(compute_spectra(unsteady[0], Li, oc)[0])\n",
    "plt.plot(compute_spectra(unsteady[-1], Li, oc)[0])"
   ]
  },
  {
   "cell_type": "code",
   "execution_count": 47,
   "metadata": {},
   "outputs": [],
   "source": [
    "import numpy as np\n",
    "from scipy.sparse import bmat, diags\n",
    "\n",
    "def build_full_jacobian(solution, T_k, T1, dz, gamma, S_k, delta_hat):\n",
    "    # --- Real and Imag parts ---\n",
    "    delta, eta_r, eta_i = np.split(solution.y, 3)\n",
    "    n = len(delta)\n",
    "\n",
    "    kappa = solution.alpha1\n",
    "\n",
    "    # --- Build L^Delta ---\n",
    "    L_real = T_k @ (delta * dz)  # shape (n,)\n",
    "    L_op = np.outer(L_real, np.ones(n)) - np.diag(T1 @ (delta * dz))\n",
    "    L = 1j * S_k * L_op - np.eye(n)\n",
    "\n",
    "    # --- ∂η̇ / ∂η (split into real/imag) ---\n",
    "    A = L.real\n",
    "    B = L.imag\n",
    "    J_eta_eta = np.block([\n",
    "        [A, -B],\n",
    "        [B,  A]\n",
    "    ])\n",
    "\n",
    "    # --- ∂η̇ / ∂Δ ---\n",
    "    d_eta_d_delta_r = np.zeros((n, n))\n",
    "    d_eta_d_delta_i = np.zeros((n, n))\n",
    "    for i in range(n):\n",
    "        for j in range(n):\n",
    "            d_eta_d_delta_r[i, j] = S_k * (\n",
    "                - T1[i, j] * eta_r[i] * dz + T_k[i, j] * eta_r[j] * dz\n",
    "            )\n",
    "            d_eta_d_delta_i[i, j] = S_k * (\n",
    "                - T1[i, j] * eta_i[i] * dz + T_k[i, j] * eta_i[j] * dz\n",
    "            )\n",
    "    d_eta_d_delta = np.block([[d_eta_d_delta_r], [d_eta_d_delta_i]])\n",
    "\n",
    "    # --- ∂Δ̇ / ∂η_r and ∂η_i ---\n",
    "    d_delta_d_eta_r = diags(-2 * gamma * kappa * delta * eta_r)\n",
    "    d_delta_d_eta_i = diags(-2 * gamma * kappa * delta * eta_i)\n",
    "    J_delta_eta = np.hstack([d_delta_d_eta_r.toarray(), d_delta_d_eta_i.toarray()])\n",
    "\n",
    "    # --- ∂Δ̇ / ∂Δ ---\n",
    "    J_delta_delta = diags(-gamma * (1 + kappa * (eta_r**2 + eta_i**2)))\n",
    "\n",
    "    # --- Assemble full Jacobian ---\n",
    "    J_top = np.hstack([J_eta_eta, d_eta_d_delta])\n",
    "    J_bot = np.hstack([J_delta_eta, J_delta_delta.toarray()])\n",
    "    J = np.vstack([J_top, J_bot])\n",
    "\n",
    "    return J\n"
   ]
  },
  {
   "cell_type": "code",
   "execution_count": 50,
   "metadata": {},
   "outputs": [],
   "source": [
    "J = build_full_jacobian(unsteady[0], Li, oc, dz, 1, S_hat, delta_hat)"
   ]
  },
  {
   "cell_type": "code",
   "execution_count": 51,
   "metadata": {},
   "outputs": [
    {
     "data": {
      "text/plain": [
       "EigResult(eigenvalues=array([-0.99998942+1708.14565815j, -0.99998942-1708.14565815j,\n",
       "       -0.9999986  +110.38677743j, -0.9999986  -110.38677743j,\n",
       "       -0.99999754 +109.26657144j, -0.99999754 -109.26657144j,\n",
       "       -0.99999507 +108.03582879j, -0.99999507 -108.03582879j,\n",
       "       -0.99998864 +106.03022781j, -0.99998864 -106.03022781j,\n",
       "       -0.99998515 +103.06458849j, -0.99998515 -103.06458849j,\n",
       "       -0.99998138  +99.73832722j, -0.99998138  -99.73832722j,\n",
       "       -0.99997694  +96.27745953j, -0.99997694  -96.27745953j,\n",
       "       -0.99997166  +92.79211755j, -0.99997166  -92.79211755j,\n",
       "       -0.99996538  +89.34398637j, -0.99996538  -89.34398637j,\n",
       "       -0.99995793  +85.96901983j, -0.99995793  -85.96901983j,\n",
       "       -0.9999491   +82.68821838j, -0.9999491   -82.68821838j,\n",
       "       -0.99993868  +79.51348341j, -0.99993868  -79.51348341j,\n",
       "       -0.99992641  +76.45101765j, -0.99992641  -76.45101765j,\n",
       "       -0.99991202  +73.50338179j, -0.99991202  -73.50338179j,\n",
       "       -0.99989522  +70.6707729j , -0.99989522  -70.6707729j ,\n",
       "       -0.99987567  +67.95182198j, -0.99987567  -67.95182198j,\n",
       "       -0.99985312  +65.34403261j, -0.99985312  -65.34403261j,\n",
       "       -0.99982743  +62.8437075j , -0.99982743  -62.8437075j ,\n",
       "       -0.99979879  +60.4436435j , -0.99979879  -60.4436435j ,\n",
       "       -0.99974238  +58.06531542j, -0.99974238  -58.06531542j,\n",
       "       -0.99966545  +55.68133815j, -0.99966545  -55.68133815j,\n",
       "       -0.99959733  +53.37431833j, -0.99959733  -53.37431833j,\n",
       "       -0.99951892  +51.17620875j, -0.99951892  -51.17620875j,\n",
       "       -0.99942742  +49.08829528j, -0.99942742  -49.08829528j,\n",
       "       -0.99932092  +47.10895349j, -0.99932092  -47.10895349j,\n",
       "       -0.99919776  +45.23581716j, -0.99919776  -45.23581716j,\n",
       "       -0.99905658  +43.46616152j, -0.99905658  -43.46616152j,\n",
       "       -0.99889636  +41.79691532j, -0.99889636  -41.79691532j,\n",
       "       -0.99207341  +26.08932596j, -0.99207341  -26.08932596j,\n",
       "       -0.99871667  +40.22450792j, -0.99871667  -40.22450792j,\n",
       "       -0.99851759  +38.74456156j, -0.99851759  -38.74456156j,\n",
       "       -0.99465786  +28.33470663j, -0.99465786  -28.33470663j,\n",
       "       -0.99829949  +37.35137016j, -0.99829949  -37.35137016j,\n",
       "       -0.99593455  +29.91180785j, -0.99593455  -29.91180785j,\n",
       "       -0.99806199  +36.03704333j, -0.99806199  -36.03704333j,\n",
       "       -0.99667031  +31.21845222j, -0.99667031  -31.21845222j,\n",
       "       -0.99715098  +32.41794927j, -0.99715098  -32.41794927j,\n",
       "       -0.99780169  +34.79009055j, -0.99780169  -34.79009055j,\n",
       "       -0.99750739  +33.59300636j, -0.99750739  -33.59300636j,\n",
       "       -4.46750299   +0.j        , -4.34523343   +0.j        ,\n",
       "       -4.23440396   +0.j        , -4.12178562   +0.j        ,\n",
       "       -4.00415971   +0.j        , -3.88107322   +0.j        ,\n",
       "       -3.75341335   +0.j        , -3.62269461   +0.j        ,\n",
       "       -3.49062952   +0.j        , -3.35886921   +0.j        ,\n",
       "       -3.22885954   +0.j        , -3.10177654   +0.j        ,\n",
       "       -2.97851338   +0.j        , -2.85969849   +0.j        ,\n",
       "       -2.74572985   +0.j        , -2.63681544   +0.j        ,\n",
       "       -2.53301388   +0.j        , -2.4342717    +0.j        ,\n",
       "       -2.34045594   +0.j        , -2.2513834    +0.j        ,\n",
       "       -2.16707098   +0.j        , -2.08677636   +0.j        ,\n",
       "       -2.01053013   +0.j        , -1.93811386   +0.j        ,\n",
       "       -1.86932051   +0.j        , -1.19149561   +0.j        ,\n",
       "       -1.21825111   +0.j        , -1.80396112   +0.j        ,\n",
       "       -1.24722955   +0.j        , -1.27874076   +0.j        ,\n",
       "       -1.74186752   +0.j        , -1.68289362   +0.j        ,\n",
       "       -1.31287719   +0.j        , -1.34966706   +0.j        ,\n",
       "       -1.38911914   +0.j        , -1.62691573   +0.j        ,\n",
       "       -1.43124068   +0.j        , -1.4760462    +0.j        ,\n",
       "       -1.57383218   +0.j        , -1.52356254   +0.j        ]), eigenvectors=array([[ 3.61477563e-02+6.84166723e-07j,  3.61477563e-02-6.84166723e-07j,\n",
       "         1.79168044e-06+4.72629075e-04j, ...,\n",
       "         2.78855875e-04+0.00000000e+00j, -7.19797420e-04+0.00000000e+00j,\n",
       "        -4.81083557e-04+0.00000000e+00j],\n",
       "       [ 4.14980009e-02+6.79741795e-07j,  4.14980009e-02-6.79741795e-07j,\n",
       "         1.67218630e-06+5.58670841e-04j, ...,\n",
       "         5.03485654e-05+0.00000000e+00j, -4.35730215e-04+0.00000000e+00j,\n",
       "        -2.25960766e-04+0.00000000e+00j],\n",
       "       [ 4.52718172e-02+6.75818238e-07j,  4.52718172e-02-6.75818238e-07j,\n",
       "         1.60423366e-06+6.22215515e-04j, ...,\n",
       "        -5.73180509e-05+0.00000000e+00j, -3.04239693e-04+0.00000000e+00j,\n",
       "        -1.06882020e-04+0.00000000e+00j],\n",
       "       ...,\n",
       "       [-1.18082270e-04-1.43828422e-04j, -1.18082270e-04+1.43828422e-04j,\n",
       "         4.19625363e-03+3.46187228e-03j, ...,\n",
       "         3.10909207e-04+0.00000000e+00j, -2.63722383e-04+0.00000000e+00j,\n",
       "        -2.84455827e-04+0.00000000e+00j],\n",
       "       [-1.10945135e-04-1.35110572e-04j, -1.10945135e-04+1.35110572e-04j,\n",
       "        -8.20239216e-03-6.76418640e-03j, ...,\n",
       "         2.48095790e-04+0.00000000e+00j, -2.19189462e-04+0.00000000e+00j,\n",
       "        -2.32307797e-04+0.00000000e+00j],\n",
       "       [-9.91473618e-05-1.20710432e-04j, -9.91473618e-05+1.20710432e-04j,\n",
       "         1.17035372e-03+9.64898275e-04j, ...,\n",
       "         1.95928269e-04+0.00000000e+00j, -1.78629447e-04+0.00000000e+00j,\n",
       "        -1.86758803e-04+0.00000000e+00j]]))"
      ]
     },
     "execution_count": 51,
     "metadata": {},
     "output_type": "execute_result"
    }
   ],
   "source": [
    "np.linalg.eig(J)"
   ]
  },
  {
   "cell_type": "code",
   "execution_count": null,
   "metadata": {},
   "outputs": [],
   "source": []
  }
 ],
 "metadata": {
  "kernelspec": {
   "display_name": "Python 3",
   "language": "python",
   "name": "python3"
  },
  "language_info": {
   "codemirror_mode": {
    "name": "ipython",
    "version": 3
   },
   "file_extension": ".py",
   "mimetype": "text/x-python",
   "name": "python",
   "nbconvert_exporter": "python",
   "pygments_lexer": "ipython3",
   "version": "3.12.4"
  }
 },
 "nbformat": 4,
 "nbformat_minor": 2
}
