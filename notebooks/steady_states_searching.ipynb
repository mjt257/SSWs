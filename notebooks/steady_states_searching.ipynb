{
 "cells": [
  {
   "cell_type": "code",
   "execution_count": 1,
   "metadata": {},
   "outputs": [],
   "source": [
    "import sys\n",
    "sys.path.append(r'..\\scripts')\n",
    "\n",
    "import numpy as np"
   ]
  },
  {
   "cell_type": "markdown",
   "metadata": {},
   "source": [
    "## Kernel"
   ]
  },
  {
   "cell_type": "markdown",
   "metadata": {},
   "source": [
    "### Compute Kernel if not cached"
   ]
  },
  {
   "cell_type": "code",
   "execution_count": null,
   "metadata": {},
   "outputs": [],
   "source": [
    "from compute_kernels import parallel_Li"
   ]
  },
  {
   "cell_type": "code",
   "execution_count": null,
   "metadata": {},
   "outputs": [],
   "source": [
    "#Define simulation parameters\n",
    "\n",
    "N = 120 # Number of spatial points\n",
    "zb, zt = 1, 5 #bounds\n",
    "k = 2 #wave number\n",
    "alpha = 4.8\n",
    "dz = (zt - zb)/N\n",
    "\n",
    "#Radius function\n",
    "R = lambda z : 1\n",
    "R = np.vectorize(R)\n",
    "\n",
    "if __name__ == '__main__':\n",
    "    zg, oc, L = parallel_Li(zb, zt, N, k, R, num_workers = None)"
   ]
  },
  {
   "cell_type": "code",
   "execution_count": null,
   "metadata": {},
   "outputs": [],
   "source": [
    "np.savez(f'../data_cache/discretizationN={N}.npz', zg=zg, oc=oc, L=L)"
   ]
  },
  {
   "cell_type": "markdown",
   "metadata": {},
   "source": [
    "### Load Cached Kernel"
   ]
  },
  {
   "cell_type": "code",
   "execution_count": 2,
   "metadata": {},
   "outputs": [],
   "source": [
    "#Define simulation parameters\n",
    "\n",
    "N = 120 # Number of spatial points\n",
    "zb, zt = 1, 5 #bounds\n",
    "k = 2 #wave number\n",
    "alpha = 4.8\n",
    "dz = (zt - zb)/N\n",
    "\n",
    "#Radius function\n",
    "R = lambda z : 1\n",
    "R = np.vectorize(R)\n",
    "\n",
    "discretization = np.load(f'../data_cache/discretizationN={N}.npz')\n",
    "zg, oc, Li = discretization['zg'], discretization['oc'], discretization['L']"
   ]
  },
  {
   "cell_type": "markdown",
   "metadata": {},
   "source": [
    "## Compute Steady States"
   ]
  },
  {
   "cell_type": "code",
   "execution_count": null,
   "metadata": {},
   "outputs": [],
   "source": [
    "from steady_state_analysis import compute_adomian_decomp_terms, pseudo_arclength_continutation, compute_steady_state\n",
    "from simulation import simulate\n",
    "from dynamical_system import F_k\n",
    "import matplotlib.pyplot as plt"
   ]
  },
  {
   "cell_type": "markdown",
   "metadata": {},
   "source": [
    "### Pseudo-Arclength"
   ]
  },
  {
   "cell_type": "code",
   "execution_count": null,
   "metadata": {},
   "outputs": [],
   "source": [
    "#Default Parameters\n",
    "T_final = 300\n",
    "gamma = 0.1\n",
    "S_hat = 100\n",
    "delta_hat = 0.1\n",
    "kappa = 30\n",
    "Delta0_func = lambda z : 1\n",
    "eta0_func = lambda z : 1 + 0j\n",
    "Delta_E = np.vectorize(lambda z : 0.5)\n",
    "\n",
    "sol_T, sol_Delta, sol_eta = simulate(kappa, gamma, S_hat, delta_hat, Delta0_func, eta0_func, Delta_E, R, k, zb, zt, N, T_final, Li, oc, solver='BDF')"
   ]
  },
  {
   "cell_type": "code",
   "execution_count": null,
   "metadata": {},
   "outputs": [],
   "source": [
    "#Initial guess for state variable is \n",
    "z0 = np.concatenate([sol_Delta[:, -1], sol_eta[:, -1]]) # Initial guess for state variables\n",
    "lambda0 = np.array([100])  # Initial guess for parameter vector (3 components)\n",
    "zlambd0 = np.concatenate([z0, lambda0])\n",
    "\n",
    "# Parameters for continuation\n",
    "s0 = 0.0  # Initial arclength\n",
    "ds = 2  # Arclength increment\n",
    "num_steps = 100  # Number of continuation steps\n",
    "\n",
    "dz = (zt - zb)/N\n",
    "\n",
    "function_params = (L, oc, Delta_E(zg), F_k(R, zg, k)) #gamma, L, oc, DeltaE, Fk, N, dz \n",
    "\n",
    "# Perform continuation\n",
    "results, convergence = pseudo_arclength_continuation(zlambd0, function_params, N, dz, ds, S_hat = S_hat, delta_hat = delta_hat, kappa = kappa, gamma=gamma, max_steps=num_steps, jac_epislon=1e-8)\n",
    "\n",
    "np.savez(f'SteadyStatesVaringKappaPseudoArc.npz', results = results, convergence=convergence) \n",
    "\n",
    "results\n"
   ]
  }
 ],
 "metadata": {
  "kernelspec": {
   "display_name": "'personal'",
   "language": "python",
   "name": "python3"
  },
  "language_info": {
   "codemirror_mode": {
    "name": "ipython",
    "version": 3
   },
   "file_extension": ".py",
   "mimetype": "text/x-python",
   "name": "python",
   "nbconvert_exporter": "python",
   "pygments_lexer": "ipython3",
   "version": "3.12.4"
  }
 },
 "nbformat": 4,
 "nbformat_minor": 2
}
